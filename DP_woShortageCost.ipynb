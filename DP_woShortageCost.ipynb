{
 "cells": [
  {
   "cell_type": "markdown",
   "metadata": {},
   "source": [
    "### Dynamic Programming without shortage cost "
   ]
  },
  {
   "cell_type": "markdown",
   "metadata": {},
   "source": [
    "#### How to run each test instance\n",
    "\n",
    "\n",
    "**Instance 1:**  \n",
    "\n",
    "    1) \n",
    "    \n",
    "    2) Click 'Kernel' in the menu and select 'Restart & Run All' to run the program once.\n",
    "\n",
    "**Instance 2:** \n",
    "    \n",
    "     1) \n",
    "    \n",
    "     2) Click 'Kernel' in the menu and select 'Restart & Run All' to run the program once.\n",
    "\n",
    "**Instance 3:** \n",
    "    \n",
    "     1) \n",
    "    \n",
    "     2) Click 'Kernel' in the menu and select 'Restart & Run All' to run the program once."
   ]
  },
  {
   "cell_type": "markdown",
   "metadata": {},
   "source": [
    "#### Import Modules"
   ]
  },
  {
   "cell_type": "code",
   "execution_count": 7,
   "metadata": {},
   "outputs": [],
   "source": [
    "# reading file\n",
    "import pandas as pd\n",
    "\n",
    "#math and random operations\n",
    "import random as rd\n",
    "import math\n",
    "import numpy as np\n",
    "\n",
    "# Generating graphs\n",
    "import matplotlib.pyplot as plt; plt.rcdefaults()\n",
    "import numpy as np\n",
    "import matplotlib.pyplot as plt"
   ]
  },
  {
   "cell_type": "markdown",
   "metadata": {},
   "source": [
    "#### Define DP Stages and States"
   ]
  },
  {
   "cell_type": "code",
   "execution_count": 139,
   "metadata": {},
   "outputs": [],
   "source": [
    "T_1,T_2,T_3 = 10, 20, 30\n",
    "S = 40\n",
    "Q = 40\n",
    "I0 = 0"
   ]
  },
  {
   "cell_type": "markdown",
   "metadata": {},
   "source": [
    "#### Define Variables"
   ]
  },
  {
   "cell_type": "code",
   "execution_count": 140,
   "metadata": {},
   "outputs": [],
   "source": [
    "ct = int(rd.uniform(10,20))\n",
    "ht = int(rd.uniform(5,15))\n",
    "# a = min(ct,ht,dt)\n",
    "# print(T,ct,ht,dt, a)\n",
    "\n",
    "# print(Case_1[1][0][0])"
   ]
  },
  {
   "cell_type": "code",
   "execution_count": 129,
   "metadata": {},
   "outputs": [],
   "source": [
    "def dummy_fill_In(table, tablenum):\n",
    "    if (tablenum == 1):\n",
    "        table.append([i for i in range(0,41)])\n",
    "    else:    \n",
    "        for row in range(0,2):\n",
    "            list = []\n",
    "            for col in range(0,41):\n",
    "                list.append(col)\n",
    "            table.append(list)\n",
    "        \n",
    "def fillIn_StartBoundary(table, tablenum, dt, ht, ct):\n",
    "    for col in table:\n",
    "        if(col==0):\n",
    "            continue;\n",
    "        cost = ct*col + ht*(I0+col-dt)+ NextInventory(tablenum+1, I,x,dt)\n",
    "        table[col] = cost\n",
    "\n",
    "def fillIn_EndBoundary(table, tablenum, dt, ct):\n",
    "      for row in range(0,len(table)):\n",
    "        ind = dt - row\n",
    "        for col in range(0,len(table[row])):\n",
    "            if(col == ind):\n",
    "                cost = ct * col\n",
    "                table[row][col] = cost\n",
    "            else:\n",
    "                table[row][col] = 0\n",
    "\n",
    "def OptimalDec(table, tablenum, ind, dt):\n",
    "#     table[tablenum][ind] -> pass in this as 'table'\n",
    "    minVal = max(0, dt - ind)\n",
    "    maxVal = min(Q, dt+S-ind)\n",
    "    opt = 999\n",
    "    optind = -1\n",
    "    for col in range(minVal, maxVal+1):\n",
    "        if(table[col] <= opt):\n",
    "            optind = col\n",
    "            opt = table[col]\n",
    "    return opt\n",
    "    \n",
    "\n",
    "def fillIn_Table(table, tablenum, dt, ht, ct):\n",
    "    for row in range(0,len(table)):\n",
    "        minVal = max(0, dt - ind)\n",
    "        maxVal = min(Q, dt+S-row) \n",
    "        for col in range(minVal,maxVal+1):\n",
    "            cost = ct*col + ht*(row+col-dt) + OptimalDec(table[tablenum+1][row], tablenum+1, row, dt)\n",
    "            table[tablenum][row][col] = cost\n",
    "    \n",
    "def recursive(table, tablenum, dt, ht, ct):\n",
    "    if(tablenum == 1):\n",
    "        fillIn_StartBoundary(table[tablenum], tablenum, dt, ht, ct)\n",
    "    else:\n",
    "        if(tablenum == 10):\n",
    "            fillIn_EndBoundary(table[tablenum], tablenum, dt, ct)\n",
    "            dt = dt = int(rd.uniform(0,20))\n",
    "            recursive(table[tablenum-1], tablenum-1, dt, ht, ct)\n",
    "        else:\n",
    "            fillIn_Table(table[tablenum] , tablenum, dt, ht, ct)\n",
    "            dt = dt = int(rd.uniform(0,20))\n",
    "            recursive(table[tablenum-1], tablenum-1, dt, ht, ct)"
   ]
  },
  {
   "cell_type": "code",
   "execution_count": 141,
   "metadata": {},
   "outputs": [
    {
     "ename": "IndexError",
     "evalue": "list index out of range",
     "output_type": "error",
     "traceback": [
      "\u001b[1;31m---------------------------------------------------------------------------\u001b[0m",
      "\u001b[1;31mIndexError\u001b[0m                                Traceback (most recent call last)",
      "\u001b[1;32m<ipython-input-141-7830f4c0d70c>\u001b[0m in \u001b[0;36m<module>\u001b[1;34m\u001b[0m\n\u001b[0;32m     25\u001b[0m \u001b[1;33m\u001b[0m\u001b[0m\n\u001b[0;32m     26\u001b[0m \u001b[0mdt\u001b[0m \u001b[1;33m=\u001b[0m \u001b[0mint\u001b[0m\u001b[1;33m(\u001b[0m\u001b[0mrd\u001b[0m\u001b[1;33m.\u001b[0m\u001b[0muniform\u001b[0m\u001b[1;33m(\u001b[0m\u001b[1;36m0\u001b[0m\u001b[1;33m,\u001b[0m\u001b[1;36m20\u001b[0m\u001b[1;33m)\u001b[0m\u001b[1;33m)\u001b[0m\u001b[1;33m\u001b[0m\u001b[1;33m\u001b[0m\u001b[0m\n\u001b[1;32m---> 27\u001b[1;33m \u001b[0mrecursive\u001b[0m\u001b[1;33m(\u001b[0m\u001b[0mCase_1\u001b[0m\u001b[1;33m,\u001b[0m \u001b[0mT_1\u001b[0m\u001b[1;33m,\u001b[0m \u001b[0mdt\u001b[0m\u001b[1;33m,\u001b[0m \u001b[0mht\u001b[0m\u001b[1;33m,\u001b[0m \u001b[0mct\u001b[0m\u001b[1;33m)\u001b[0m\u001b[1;33m\u001b[0m\u001b[1;33m\u001b[0m\u001b[0m\n\u001b[0m\u001b[0;32m     28\u001b[0m \u001b[1;33m\u001b[0m\u001b[0m\n\u001b[0;32m     29\u001b[0m \u001b[0mprint\u001b[0m\u001b[1;33m(\u001b[0m\u001b[0mCase_1\u001b[0m\u001b[1;33m)\u001b[0m\u001b[1;33m\u001b[0m\u001b[1;33m\u001b[0m\u001b[0m\n",
      "\u001b[1;32m<ipython-input-129-6960e7280050>\u001b[0m in \u001b[0;36mrecursive\u001b[1;34m(table, tablenum, dt, ht, ct)\u001b[0m\n\u001b[0;32m     54\u001b[0m             \u001b[0mfillIn_EndBoundary\u001b[0m\u001b[1;33m(\u001b[0m\u001b[0mtable\u001b[0m\u001b[1;33m[\u001b[0m\u001b[0mtablenum\u001b[0m\u001b[1;33m]\u001b[0m\u001b[1;33m,\u001b[0m \u001b[0mtablenum\u001b[0m\u001b[1;33m,\u001b[0m \u001b[0mdt\u001b[0m\u001b[1;33m,\u001b[0m \u001b[0mct\u001b[0m\u001b[1;33m)\u001b[0m\u001b[1;33m\u001b[0m\u001b[1;33m\u001b[0m\u001b[0m\n\u001b[0;32m     55\u001b[0m             \u001b[0mdt\u001b[0m \u001b[1;33m=\u001b[0m \u001b[0mdt\u001b[0m \u001b[1;33m=\u001b[0m \u001b[0mint\u001b[0m\u001b[1;33m(\u001b[0m\u001b[0mrd\u001b[0m\u001b[1;33m.\u001b[0m\u001b[0muniform\u001b[0m\u001b[1;33m(\u001b[0m\u001b[1;36m0\u001b[0m\u001b[1;33m,\u001b[0m\u001b[1;36m20\u001b[0m\u001b[1;33m)\u001b[0m\u001b[1;33m)\u001b[0m\u001b[1;33m\u001b[0m\u001b[1;33m\u001b[0m\u001b[0m\n\u001b[1;32m---> 56\u001b[1;33m             \u001b[0mrecursive\u001b[0m\u001b[1;33m(\u001b[0m\u001b[0mtable\u001b[0m\u001b[1;33m[\u001b[0m\u001b[0mtablenum\u001b[0m\u001b[1;33m-\u001b[0m\u001b[1;36m1\u001b[0m\u001b[1;33m]\u001b[0m\u001b[1;33m,\u001b[0m\u001b[0mtablenum\u001b[0m\u001b[1;33m-\u001b[0m\u001b[1;36m1\u001b[0m\u001b[1;33m,\u001b[0m \u001b[0mdt\u001b[0m\u001b[1;33m,\u001b[0m \u001b[0mht\u001b[0m\u001b[1;33m,\u001b[0m \u001b[0mct\u001b[0m\u001b[1;33m)\u001b[0m\u001b[1;33m\u001b[0m\u001b[1;33m\u001b[0m\u001b[0m\n\u001b[0m\u001b[0;32m     57\u001b[0m         \u001b[1;32melse\u001b[0m\u001b[1;33m:\u001b[0m\u001b[1;33m\u001b[0m\u001b[1;33m\u001b[0m\u001b[0m\n\u001b[0;32m     58\u001b[0m             \u001b[0mfillIn_Table\u001b[0m\u001b[1;33m(\u001b[0m\u001b[0mtable\u001b[0m\u001b[1;33m[\u001b[0m\u001b[0mtablenum\u001b[0m\u001b[1;33m]\u001b[0m \u001b[1;33m,\u001b[0m \u001b[0mtablenum\u001b[0m\u001b[1;33m,\u001b[0m \u001b[0mdt\u001b[0m\u001b[1;33m,\u001b[0m \u001b[0mht\u001b[0m\u001b[1;33m,\u001b[0m \u001b[0mct\u001b[0m\u001b[1;33m)\u001b[0m\u001b[1;33m\u001b[0m\u001b[1;33m\u001b[0m\u001b[0m\n",
      "\u001b[1;32m<ipython-input-129-6960e7280050>\u001b[0m in \u001b[0;36mrecursive\u001b[1;34m(table, tablenum, dt, ht, ct)\u001b[0m\n\u001b[0;32m     56\u001b[0m             \u001b[0mrecursive\u001b[0m\u001b[1;33m(\u001b[0m\u001b[0mtable\u001b[0m\u001b[1;33m[\u001b[0m\u001b[0mtablenum\u001b[0m\u001b[1;33m-\u001b[0m\u001b[1;36m1\u001b[0m\u001b[1;33m]\u001b[0m\u001b[1;33m,\u001b[0m\u001b[0mtablenum\u001b[0m\u001b[1;33m-\u001b[0m\u001b[1;36m1\u001b[0m\u001b[1;33m,\u001b[0m \u001b[0mdt\u001b[0m\u001b[1;33m,\u001b[0m \u001b[0mht\u001b[0m\u001b[1;33m,\u001b[0m \u001b[0mct\u001b[0m\u001b[1;33m)\u001b[0m\u001b[1;33m\u001b[0m\u001b[1;33m\u001b[0m\u001b[0m\n\u001b[0;32m     57\u001b[0m         \u001b[1;32melse\u001b[0m\u001b[1;33m:\u001b[0m\u001b[1;33m\u001b[0m\u001b[1;33m\u001b[0m\u001b[0m\n\u001b[1;32m---> 58\u001b[1;33m             \u001b[0mfillIn_Table\u001b[0m\u001b[1;33m(\u001b[0m\u001b[0mtable\u001b[0m\u001b[1;33m[\u001b[0m\u001b[0mtablenum\u001b[0m\u001b[1;33m]\u001b[0m \u001b[1;33m,\u001b[0m \u001b[0mtablenum\u001b[0m\u001b[1;33m,\u001b[0m \u001b[0mdt\u001b[0m\u001b[1;33m,\u001b[0m \u001b[0mht\u001b[0m\u001b[1;33m,\u001b[0m \u001b[0mct\u001b[0m\u001b[1;33m)\u001b[0m\u001b[1;33m\u001b[0m\u001b[1;33m\u001b[0m\u001b[0m\n\u001b[0m\u001b[0;32m     59\u001b[0m             \u001b[0mdt\u001b[0m \u001b[1;33m=\u001b[0m \u001b[0mdt\u001b[0m \u001b[1;33m=\u001b[0m \u001b[0mint\u001b[0m\u001b[1;33m(\u001b[0m\u001b[0mrd\u001b[0m\u001b[1;33m.\u001b[0m\u001b[0muniform\u001b[0m\u001b[1;33m(\u001b[0m\u001b[1;36m0\u001b[0m\u001b[1;33m,\u001b[0m\u001b[1;36m20\u001b[0m\u001b[1;33m)\u001b[0m\u001b[1;33m)\u001b[0m\u001b[1;33m\u001b[0m\u001b[1;33m\u001b[0m\u001b[0m\n\u001b[0;32m     60\u001b[0m             \u001b[0mrecursive\u001b[0m\u001b[1;33m(\u001b[0m\u001b[0mtable\u001b[0m\u001b[1;33m[\u001b[0m\u001b[0mtablenum\u001b[0m\u001b[1;33m-\u001b[0m\u001b[1;36m1\u001b[0m\u001b[1;33m]\u001b[0m\u001b[1;33m,\u001b[0m \u001b[0mtablenum\u001b[0m\u001b[1;33m-\u001b[0m\u001b[1;36m1\u001b[0m\u001b[1;33m,\u001b[0m \u001b[0mdt\u001b[0m\u001b[1;33m,\u001b[0m \u001b[0mht\u001b[0m\u001b[1;33m,\u001b[0m \u001b[0mct\u001b[0m\u001b[1;33m)\u001b[0m\u001b[1;33m\u001b[0m\u001b[1;33m\u001b[0m\u001b[0m\n",
      "\u001b[1;31mIndexError\u001b[0m: list index out of range"
     ]
    }
   ],
   "source": [
    "Case_1 ={\n",
    "    1:[],\n",
    "    2:[],\n",
    "    3:[],\n",
    "    4:[],\n",
    "    5:[],\n",
    "    6:[],\n",
    "    7:[],\n",
    "    8:[],\n",
    "    9:[],\n",
    "    10:[]\n",
    "} \n",
    "\n",
    "for i in Case_1:\n",
    "    dummy_fill_In(Case_1[i], i)\n",
    "\n",
    "# dt = int(rd.uniform(0,20))\n",
    "# fillIn_EndBoundary(Case_1[10],10, dt, ct)\n",
    "# print(Case_1[10][0])\n",
    "# li = OptimalDec(Case_1[10][0],10,20,dt)\n",
    "# print(li)\n",
    "# # dt = int(rd.uniform(0,20))\n",
    "# # fillIn_StartBoundary(Case_1[1], dt, ct, ht)\n",
    "\n",
    "\n",
    "dt = int(rd.uniform(0,20))\n",
    "recursive(Case_1, T_1, dt, ht, ct)\n",
    "\n",
    "print(Case_1)\n",
    "        \n"
   ]
  },
  {
   "cell_type": "markdown",
   "metadata": {},
   "source": [
    "#### Define DP Recursion Method"
   ]
  },
  {
   "cell_type": "code",
   "execution_count": null,
   "metadata": {},
   "outputs": [],
   "source": []
  },
  {
   "cell_type": "markdown",
   "metadata": {},
   "source": [
    "#### Define Objective Value Function"
   ]
  },
  {
   "cell_type": "code",
   "execution_count": null,
   "metadata": {},
   "outputs": [],
   "source": []
  },
  {
   "cell_type": "markdown",
   "metadata": {},
   "source": [
    "#### Solving DP"
   ]
  },
  {
   "cell_type": "code",
   "execution_count": null,
   "metadata": {},
   "outputs": [],
   "source": []
  }
 ],
 "metadata": {
  "kernelspec": {
   "display_name": "Python 3",
   "language": "python",
   "name": "python3"
  },
  "language_info": {
   "codemirror_mode": {
    "name": "ipython",
    "version": 3
   },
   "file_extension": ".py",
   "mimetype": "text/x-python",
   "name": "python",
   "nbconvert_exporter": "python",
   "pygments_lexer": "ipython3",
   "version": "3.8.3"
  }
 },
 "nbformat": 4,
 "nbformat_minor": 4
}
